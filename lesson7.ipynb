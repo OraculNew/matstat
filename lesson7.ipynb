{
  "nbformat": 4,
  "nbformat_minor": 0,
  "metadata": {
    "kernelspec": {
      "display_name": "Python 3",
      "language": "python",
      "name": "python3"
    },
    "language_info": {
      "codemirror_mode": {
        "name": "ipython",
        "version": 3
      },
      "file_extension": ".py",
      "mimetype": "text/x-python",
      "name": "python",
      "nbconvert_exporter": "python",
      "pygments_lexer": "ipython3",
      "version": "3.7.4"
    },
    "colab": {
      "name": "lesson7.ipynb",
      "provenance": []
    }
  },
  "cells": [
    {
      "cell_type": "markdown",
      "metadata": {
        "id": "_-fe6BrMrgTs"
      },
      "source": [
        "## Урок 7. Многомерный статистический анализ. Линейная регрессия"
      ]
    },
    {
      "cell_type": "code",
      "metadata": {
        "id": "r8fbMi6_qwPz"
      },
      "source": [
        "import pandas as pd\n",
        "import numpy as np\n",
        "from scipy import stats\n",
        "import math"
      ],
      "execution_count": 1,
      "outputs": []
    },
    {
      "cell_type": "markdown",
      "metadata": {
        "id": "kqCgw_SzqwP1"
      },
      "source": [
        "1. Даны значения величины заработной платы заемщиков банка (zp) и значения их поведенческого кредитного скоринга (ks): zp = [35, 45, 190, 200, 40, 70, 54, 150, 120, 110], ks = [401, 574, 874, 919, 459, 739, 653, 902, 746, 832]. Используя математические операции, посчитать коэффициенты линейной регрессии, приняв за X заработную плату (то есть, zp - признак), а за y - значения скорингового балла (то есть, ks - целевая переменная). Произвести расчет как с использованием intercept, так и без."
      ]
    },
    {
      "cell_type": "code",
      "metadata": {
        "id": "e9gyqA6oqwP2"
      },
      "source": [
        "zp = np.array([35, 45, 190, 200, 40, 70, 54, 150, 120, 110])\n",
        "ks = np.array([401, 574, 874, 919, 459, 739, 653, 902, 746, 832])"
      ],
      "execution_count": 2,
      "outputs": []
    },
    {
      "cell_type": "code",
      "metadata": {
        "colab": {
          "base_uri": "https://localhost:8080/"
        },
        "id": "LMCl9B-1qwP3",
        "outputId": "ae93245b-1bf4-4fe6-bf0f-8fb2cc4b30e7"
      },
      "source": [
        "X = zp.reshape((len(zp), 1))\n",
        "X"
      ],
      "execution_count": 3,
      "outputs": [
        {
          "output_type": "execute_result",
          "data": {
            "text/plain": [
              "array([[ 35],\n",
              "       [ 45],\n",
              "       [190],\n",
              "       [200],\n",
              "       [ 40],\n",
              "       [ 70],\n",
              "       [ 54],\n",
              "       [150],\n",
              "       [120],\n",
              "       [110]])"
            ]
          },
          "metadata": {},
          "execution_count": 3
        }
      ]
    },
    {
      "cell_type": "code",
      "metadata": {
        "colab": {
          "base_uri": "https://localhost:8080/"
        },
        "id": "C6CwwLz7qwP4",
        "outputId": "68e1dbb9-edf9-4e99-d9ad-80410684b43d"
      },
      "source": [
        "Y = ks.reshape((len(ks), 1))\n",
        "Y"
      ],
      "execution_count": 4,
      "outputs": [
        {
          "output_type": "execute_result",
          "data": {
            "text/plain": [
              "array([[401],\n",
              "       [574],\n",
              "       [874],\n",
              "       [919],\n",
              "       [459],\n",
              "       [739],\n",
              "       [653],\n",
              "       [902],\n",
              "       [746],\n",
              "       [832]])"
            ]
          },
          "metadata": {},
          "execution_count": 4
        }
      ]
    },
    {
      "cell_type": "markdown",
      "metadata": {
        "id": "kkPZAEzxqwP4"
      },
      "source": [
        "#### C intercept"
      ]
    },
    {
      "cell_type": "code",
      "metadata": {
        "colab": {
          "base_uri": "https://localhost:8080/"
        },
        "id": "Uivn78nlqwP5",
        "outputId": "7e1b75de-1bb9-44fa-8b1f-c5124561b13a"
      },
      "source": [
        "Xi = np.hstack([np.ones((len(zp), 1)), X])\n",
        "Xi"
      ],
      "execution_count": 5,
      "outputs": [
        {
          "output_type": "execute_result",
          "data": {
            "text/plain": [
              "array([[  1.,  35.],\n",
              "       [  1.,  45.],\n",
              "       [  1., 190.],\n",
              "       [  1., 200.],\n",
              "       [  1.,  40.],\n",
              "       [  1.,  70.],\n",
              "       [  1.,  54.],\n",
              "       [  1., 150.],\n",
              "       [  1., 120.],\n",
              "       [  1., 110.]])"
            ]
          },
          "metadata": {},
          "execution_count": 5
        }
      ]
    },
    {
      "cell_type": "code",
      "metadata": {
        "colab": {
          "base_uri": "https://localhost:8080/"
        },
        "id": "rg7Jf3zJqwP6",
        "outputId": "dc94ebc4-9a36-4cc6-b8ee-fbfc00f39952"
      },
      "source": [
        "b = np.dot(np.linalg.inv(np.dot(Xi.T, Xi)), Xi.T @ Y)\n",
        "print('intercept: {}, b: {}'.format(b[0][0], b[1][0]))"
      ],
      "execution_count": 6,
      "outputs": [
        {
          "output_type": "stream",
          "text": [
            "intercept: 444.17735732435943, b: 2.620538882402764\n"
          ],
          "name": "stdout"
        }
      ]
    },
    {
      "cell_type": "markdown",
      "metadata": {
        "id": "lwEAATEeqwP6"
      },
      "source": [
        "#### Без intercept"
      ]
    },
    {
      "cell_type": "code",
      "metadata": {
        "colab": {
          "base_uri": "https://localhost:8080/"
        },
        "id": "mABPP5xZqwP8",
        "outputId": "058fb1bc-5293-406a-d3c2-969162a1a8fc"
      },
      "source": [
        "b = np.dot(np.linalg.inv(np.dot(X.T, X)), X.T @ Y)\n",
        "print('b: {}'.format(b[0][0]))"
      ],
      "execution_count": 7,
      "outputs": [
        {
          "output_type": "stream",
          "text": [
            "b: 5.889820420132688\n"
          ],
          "name": "stdout"
        }
      ]
    },
    {
      "cell_type": "markdown",
      "metadata": {
        "id": "rjOhApUjqwP8"
      },
      "source": [
        "2. Посчитать коэффициент линейной регрессии при заработной плате (zp), используя градиентный спуск (без intercept)."
      ]
    },
    {
      "cell_type": "code",
      "metadata": {
        "id": "3JYjDArmqwP8"
      },
      "source": [
        "def mse(B1, Y=Y, X=X, n=10):\n",
        "    return np.sum((B1*X-Y)**2/n)"
      ],
      "execution_count": 8,
      "outputs": []
    },
    {
      "cell_type": "code",
      "metadata": {
        "id": "HSPHucWkqwP9"
      },
      "source": [
        "B1 = 0.1\n",
        "alpha = 1e-7\n",
        "n=10"
      ],
      "execution_count": 9,
      "outputs": []
    },
    {
      "cell_type": "code",
      "metadata": {
        "colab": {
          "base_uri": "https://localhost:8080/"
        },
        "id": "phCWioXhqwP9",
        "outputId": "84bf29c1-5dcb-4604-e797-ae04352ffb97"
      },
      "source": [
        "for i in range(10000):\n",
        "    B1 -=alpha*(2/n)*np.sum((B1*X-Y)*X)\n",
        "    if i%500==0:\n",
        "        print(\"Iteration{}, B1={}, mse={}\".format(i, B1, mse(B1)))"
      ],
      "execution_count": 10,
      "outputs": [
        {
          "output_type": "stream",
          "text": [
            "Iteration0, B1=0.115952808, mse=515794.9112047831\n",
            "Iteration500, B1=4.436601977832683, mse=85610.88627620286\n",
            "Iteration1000, B1=5.524061455274668, mse=58359.886733764004\n",
            "Iteration1500, B1=5.7977629451654105, mse=56633.60929660133\n",
            "Iteration2000, B1=5.866650574656343, mse=56524.25426962639\n",
            "Iteration2500, B1=5.883988826993857, mse=56517.326923148226\n",
            "Iteration3000, B1=5.888352672815523, mse=56516.888094403395\n",
            "Iteration3500, B1=5.88945100441116, mse=56516.860295784114\n",
            "Iteration4000, B1=5.889727442292625, mse=56516.85853481644\n",
            "Iteration4500, B1=5.889797018641524, mse=56516.85842326389\n",
            "Iteration5000, B1=5.889814530236905, mse=56516.85841619733\n",
            "Iteration5500, B1=5.889818937711242, mse=56516.85841574967\n",
            "Iteration6000, B1=5.8898200470236475, mse=56516.858415721326\n",
            "Iteration6500, B1=5.889820326225288, mse=56516.85841571954\n",
            "Iteration7000, B1=5.889820396497239, mse=56516.85841571941\n",
            "Iteration7500, B1=5.8898204141839114, mse=56516.85841571941\n",
            "Iteration8000, B1=5.889820418635448, mse=56516.85841571941\n",
            "Iteration8500, B1=5.889820419755853, mse=56516.85841571941\n",
            "Iteration9000, B1=5.889820420037843, mse=56516.8584157194\n",
            "Iteration9500, B1=5.889820420108818, mse=56516.85841571942\n"
          ],
          "name": "stdout"
        }
      ]
    },
    {
      "cell_type": "markdown",
      "metadata": {
        "id": "_oC7gZlXqwP9"
      },
      "source": [
        "3. В каких случаях для вычисления доверительных интервалов и проверки статистических гипотез используется таблица значений функции Лапласа, а в каких - таблица критических точек распределения Стьюдента?"
      ]
    },
    {
      "cell_type": "markdown",
      "metadata": {
        "id": "lGQZQi5GqwP-"
      },
      "source": [
        "В случаях, когда отсутствует информация о дисперсии, используется таблица значений функции Стьюдента, в остальных случаях - таблица значений функции Лапласа."
      ]
    },
    {
      "cell_type": "markdown",
      "metadata": {
        "id": "anLqpmF2qwP-"
      },
      "source": [
        "4. Произвести вычисления как в пункте 2, но с вычислением intercept. Учесть, что изменение коэффициентов должно производиться на каждом шаге одновременно (то есть изменение одного коэффициента не должно влиять на изменение другого во время одной итерации)."
      ]
    },
    {
      "cell_type": "code",
      "metadata": {
        "id": "2tzobgfeqwP-"
      },
      "source": [
        "def mse_(B0, B1, Y=Y, X=X, n=10):\n",
        "    return np.sum((B0+B1*X-Y)**2)/n"
      ],
      "execution_count": 11,
      "outputs": []
    },
    {
      "cell_type": "code",
      "metadata": {
        "id": "iWcmS6FFqwP-"
      },
      "source": [
        "B1 = 0.1\n",
        "B0 = 0.1\n",
        "alpha = 1e-5\n",
        "n=10"
      ],
      "execution_count": 12,
      "outputs": []
    },
    {
      "cell_type": "code",
      "metadata": {
        "colab": {
          "base_uri": "https://localhost:8080/"
        },
        "id": "kpoNsHpQqwP-",
        "outputId": "111d551e-48af-4149-c11a-61201bdc1ca2"
      },
      "source": [
        "for i in range(2000000):\n",
        "    B0 -=alpha*(2/n)*np.sum((B0+B1*X-Y))\n",
        "    B1 -=alpha*(2/n)*np.sum((B0+B1*X-Y)*Xi)\n",
        "    if i%100000==0:\n",
        "        print(\"Iteration{}, B0={}, B1={}, mse={}\".format(i, B0, B1, mse_(B0, B1)))"
      ],
      "execution_count": 13,
      "outputs": [
        {
          "output_type": "stream",
          "text": [
            "Iteration0, B0=0.1139932, B1=1.7090425419264001, mse=297194.39746170817\n",
            "Iteration100000, B0=175.8269277563459, B1=4.600611240648842, mse=24737.65475870363\n",
            "Iteration200000, B0=282.0002414920825, B1=3.817192171598172, mse=13142.283094678412\n",
            "Iteration300000, B0=346.1658991649095, B1=3.3437342184614014, mse=8907.226394671019\n",
            "Iteration400000, B0=384.9443028872792, B1=3.057600727148655, mse=7360.427743281287\n",
            "Iteration500000, B0=408.3799637967812, B1=2.884676448850186, mse=6795.479919102792\n",
            "Iteration600000, B0=422.5432647463698, B1=2.780169961728305, mse=6589.14017103219\n",
            "Iteration700000, B0=431.1028310655597, B1=2.717011647823291, mse=6513.777297131714\n",
            "Iteration800000, B0=436.2757900977293, B1=2.6788420305566913, mse=6486.252000548588\n",
            "Iteration900000, B0=439.40205890046246, B1=2.6557742886838582, mse=6476.198748691538\n",
            "Iteration1000000, B0=441.291414019284, B1=2.641833338964823, mse=6472.526930929462\n",
            "Iteration1100000, B0=442.4332425024631, B1=2.6334081502254545, mse=6471.185847877958\n",
            "Iteration1200000, B0=443.1233045622654, B1=2.6283164020501735, mse=6470.696034965782\n",
            "Iteration1300000, B0=443.540342369067, B1=2.625239212887776, mse=6470.51713725422\n",
            "Iteration1400000, B0=443.792378442986, B1=2.623379518964233, mse=6470.4517972225285\n",
            "Iteration1500000, B0=443.9446960063309, B1=2.6222556161728705, mse=6470.4279326369815\n",
            "Iteration1600000, B0=444.03674886107245, B1=2.621576387473797, mse=6470.419216411594\n",
            "Iteration1700000, B0=444.092380843884, B1=2.6211658967897433, mse=6470.416032925127\n",
            "Iteration1800000, B0=444.1260019360363, B1=2.620917817458057, mse=6470.4148701986505\n",
            "Iteration1900000, B0=444.1463207846572, B1=2.6207678911450256, mse=6470.414445528123\n"
          ],
          "name": "stdout"
        }
      ]
    },
    {
      "cell_type": "code",
      "metadata": {
        "id": "V18SQnacqwP_"
      },
      "source": [
        ""
      ],
      "execution_count": 13,
      "outputs": []
    }
  ]
}