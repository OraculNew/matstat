{
  "nbformat": 4,
  "nbformat_minor": 0,
  "metadata": {
    "colab": {
      "name": "lesson4.ipynb",
      "provenance": []
    },
    "kernelspec": {
      "name": "python3",
      "display_name": "Python 3"
    },
    "language_info": {
      "name": "python"
    }
  },
  "cells": [
    {
      "cell_type": "markdown",
      "metadata": {
        "id": "XriKu_n4Qlpz"
      },
      "source": [
        "# Урок 4. Непрерывные случайные величины. Функция распределения и плотность распределения вероятностей. Равномерное и нормальное распределение. Центральная предельная теорема"
      ]
    },
    {
      "cell_type": "markdown",
      "metadata": {
        "id": "e28hCE6ZQoUS"
      },
      "source": [
        "## Случайная непрерывная величина A имеет равномерное распределение на промежутке (200, 800]. Найдите ее среднее значение и дисперсию."
      ]
    },
    {
      "cell_type": "code",
      "metadata": {
        "colab": {
          "base_uri": "https://localhost:8080/"
        },
        "id": "ZENN8XxdSbJX",
        "outputId": "2818900a-016a-4be1-8f13-864d494c2237"
      },
      "source": [
        "std = (200 + 800) / 2\n",
        "print(f'среднее значение: {std}')"
      ],
      "execution_count": 24,
      "outputs": [
        {
          "output_type": "stream",
          "text": [
            "среднее значение: 500.0\n"
          ],
          "name": "stdout"
        }
      ]
    },
    {
      "cell_type": "code",
      "metadata": {
        "colab": {
          "base_uri": "https://localhost:8080/"
        },
        "id": "3QWhWYzISoYg",
        "outputId": "6f14ff05-5609-4bd9-fec6-90ef16d06d96"
      },
      "source": [
        "D = pow((800-200), 2) / 12\n",
        "print(f'дисперсия: {D}')"
      ],
      "execution_count": 25,
      "outputs": [
        {
          "output_type": "stream",
          "text": [
            "дисперсия: 30000.0\n"
          ],
          "name": "stdout"
        }
      ]
    },
    {
      "cell_type": "markdown",
      "metadata": {
        "id": "kriRNan9SyPh"
      },
      "source": [
        "## О случайной непрерывной равномерно распределенной величине B известно, что ее дисперсия равна 0.2. Можно ли найти правую границу величины B и ее среднее значение зная, что левая граница равна 0.5? Если да, найдите ее."
      ]
    },
    {
      "cell_type": "markdown",
      "metadata": {
        "id": "fBx98e2nTIUD"
      },
      "source": [
        "$D(X)=\\frac{(b−a)^2}{12}$"
      ]
    },
    {
      "cell_type": "code",
      "metadata": {
        "id": "eNWc5u3lUFiw"
      },
      "source": [
        "D = 0.2\n",
        "a = 0.5"
      ],
      "execution_count": 19,
      "outputs": []
    },
    {
      "cell_type": "markdown",
      "metadata": {
        "id": "Iwg5tDDtZ8R7"
      },
      "source": [
        "$0.2 = \\frac{(b - 0.5)^2}{12}$\n",
        "\n",
        "$0.2 * 12 = (b - 0.5)^2$\n",
        "\n",
        "$\\sqrt{0.2 * 12} = (b - 0.5)$\n",
        "\n",
        "$b = \\sqrt{2.4} + 0.5$\n"
      ]
    },
    {
      "cell_type": "code",
      "metadata": {
        "colab": {
          "base_uri": "https://localhost:8080/"
        },
        "id": "eYDRNnHWc2nI",
        "outputId": "2e7156da-eb49-4181-a62d-6f8760199725"
      },
      "source": [
        "b = pow(2.4, 0.5) + 0.5\n",
        "print(f'Правая граница: {b}')"
      ],
      "execution_count": 15,
      "outputs": [
        {
          "output_type": "stream",
          "text": [
            "Правая граница: 2.049193338482967\n"
          ],
          "name": "stdout"
        }
      ]
    },
    {
      "cell_type": "code",
      "metadata": {
        "colab": {
          "base_uri": "https://localhost:8080/"
        },
        "id": "oXMyJsZwdqTR",
        "outputId": "09789344-f4f0-4ae4-918f-2f833c02d6b3"
      },
      "source": [
        "print(f'Проверка дисперсии: {pow((b - a), 2)/12}')"
      ],
      "execution_count": 23,
      "outputs": [
        {
          "output_type": "stream",
          "text": [
            "Проверка дисперсии: 0.20000000000000004\n"
          ],
          "name": "stdout"
        }
      ]
    },
    {
      "cell_type": "code",
      "metadata": {
        "colab": {
          "base_uri": "https://localhost:8080/"
        },
        "id": "rZ3-vFjgdxnx",
        "outputId": "cf472b39-24db-49ec-f011-a449bbbe547a"
      },
      "source": [
        "M = (a + b) / 2\n",
        "print(f'Среднее значение: {M}')"
      ],
      "execution_count": 22,
      "outputs": [
        {
          "output_type": "stream",
          "text": [
            "Среднее значение: 1.2745966692414834\n"
          ],
          "name": "stdout"
        }
      ]
    },
    {
      "cell_type": "markdown",
      "metadata": {
        "id": "XILELnV5ekdl"
      },
      "source": [
        "## Непрерывная случайная величина X распределена нормально и задана плотностью распределения $f(x) = \\frac{1}{4 \\sqrt{2 \\pi}} e ^ {- \\frac{(x + 2)^2}{32}}$ Найдите:\n",
        "\n",
        "1.   M(X)\n",
        "2.   D(X)\n",
        "3.   std(X) (среднее квадратичное отклонение - $\\sigma$)"
      ]
    },
    {
      "cell_type": "markdown",
      "metadata": {
        "id": "1-E7MN1Dhzy-"
      },
      "source": [
        "где $a = M(X), \\; \\sigma^2 = D(X).$"
      ]
    },
    {
      "cell_type": "markdown",
      "metadata": {
        "id": "pNjVPns0h3KE"
      },
      "source": [
        "Таким образом, из формулы для $f(x)$\n",
        "\n",
        "$$f(x) = \\frac{1}{\\sigma \\sqrt{2 \\pi}} e ^ {- \\frac{(x - a)^2}{2 \\sigma^2}},$$\n",
        "\n",
        "находим, что\n",
        "\n",
        "$$a = M(X) = -2,$$\n",
        "$$D(X) = \\sigma^2 = 16, $$\n",
        "$$\\sigma = 4$$"
      ]
    },
    {
      "cell_type": "markdown",
      "metadata": {
        "id": "xNvHOXpDiIOl"
      },
      "source": [
        "Ответ:\n",
        "1. M(X) = -2\n",
        "2. D(X) = 16\n",
        "3. $\\sigma = 4$"
      ]
    },
    {
      "cell_type": "markdown",
      "metadata": {
        "id": "uQLoxx75ijcX"
      },
      "source": [
        "## Рост взрослого населения города X имеет нормальное распределение. Причем, средний рост равен 174 см, а среднее квадратичное отклонение равно 8 см. Какова вероятность того, что случайным образом выбранный взрослый человек имеет рост:\n",
        "\n",
        "а). больше 182 см\n",
        "\n",
        "б). больше 190 см\n",
        "\n",
        "в). от 166 см до 190 см\n",
        "\n",
        "г). от 166 см до 182 см\n",
        "\n",
        "д). от 158 см до 190 см\n",
        "\n",
        "е). не выше 150 см или не ниже 190 см\n",
        "\n",
        "ё). не выше 150 см или не ниже 198 см\n",
        "\n",
        "ж). ниже 166 см.\n"
      ]
    },
    {
      "cell_type": "code",
      "metadata": {
        "id": "4TQU4g9Ljwnq"
      },
      "source": [
        "import scipy.stats as st"
      ],
      "execution_count": 26,
      "outputs": []
    },
    {
      "cell_type": "markdown",
      "metadata": {
        "id": "S18HJCQ-i4nP"
      },
      "source": [
        "$\\mu = 174$"
      ]
    },
    {
      "cell_type": "markdown",
      "metadata": {
        "id": "mrAoMq4Yi7MH"
      },
      "source": [
        "$\\sigma = 8$"
      ]
    },
    {
      "cell_type": "markdown",
      "metadata": {
        "id": "Q6f53SZji-hH"
      },
      "source": [
        "**Правило трёх $\\sigma$:**\n",
        "\n",
        "$[-\\sigma, \\sigma] = 68\\%$\n",
        "\n",
        "$[-2\\sigma, 2\\sigma] = 95.4\\%$\n",
        "\n",
        "$[-3\\sigma, 3\\sigma] = 99.72\\%$"
      ]
    },
    {
      "cell_type": "markdown",
      "metadata": {
        "id": "FLKnNQG8jET_"
      },
      "source": [
        "а). больше 182 см => интервал $[\\mu + \\sigma, +\\infty]$\n",
        "\n",
        "$$P(>182) = \\frac{(100 - 68)}{2}\\% = \\frac{32}{2}\\% = 16\\%$$"
      ]
    },
    {
      "cell_type": "code",
      "metadata": {
        "id": "jQSfyXlIjqQb"
      },
      "source": [
        "hight = st.norm(loc=174, scale=8)"
      ],
      "execution_count": 27,
      "outputs": []
    },
    {
      "cell_type": "code",
      "metadata": {
        "colab": {
          "base_uri": "https://localhost:8080/"
        },
        "id": "pdKtZcWMjto3",
        "outputId": "7a930686-2500-4a0d-94e5-f7e9ed5910aa"
      },
      "source": [
        "1 - hight.cdf(182)"
      ],
      "execution_count": 28,
      "outputs": [
        {
          "output_type": "execute_result",
          "data": {
            "text/plain": [
              "0.15865525393145707"
            ]
          },
          "metadata": {
            "tags": []
          },
          "execution_count": 28
        }
      ]
    },
    {
      "cell_type": "markdown",
      "metadata": {
        "id": "DRhi7dftj-7q"
      },
      "source": [
        "б). больше 190 см => интервал $[\\mu + 2\\sigma, +\\infty]$\n",
        "\n",
        "$$P(>190) = \\frac{(100 - 95.4)}{2}\\% = \\frac{4.6}{2}\\% = 2.3\\%$$"
      ]
    },
    {
      "cell_type": "code",
      "metadata": {
        "colab": {
          "base_uri": "https://localhost:8080/"
        },
        "id": "tYpQ5ypKkJn7",
        "outputId": "9796540a-4e93-465d-b42e-88a4c47416af"
      },
      "source": [
        "1 - hight.cdf(190)"
      ],
      "execution_count": 29,
      "outputs": [
        {
          "output_type": "execute_result",
          "data": {
            "text/plain": [
              "0.02275013194817921"
            ]
          },
          "metadata": {
            "tags": []
          },
          "execution_count": 29
        }
      ]
    },
    {
      "cell_type": "markdown",
      "metadata": {
        "id": "YxsiU1S_kRUq"
      },
      "source": [
        "в). от 166 см до 190 см => интервал $[-\\sigma, 2\\sigma]$\n",
        "\n",
        "$$P = \\frac{1}{2}(68 + 95.4)\\% = 34\\% + 47.7\\% = 81.7\\%$$"
      ]
    },
    {
      "cell_type": "code",
      "metadata": {
        "colab": {
          "base_uri": "https://localhost:8080/"
        },
        "id": "LopvMQPUkXCT",
        "outputId": "30ee45fd-00c6-437e-b827-3a7611f3f981"
      },
      "source": [
        "hight.cdf(190) - hight.cdf(166)"
      ],
      "execution_count": 30,
      "outputs": [
        {
          "output_type": "execute_result",
          "data": {
            "text/plain": [
              "0.8185946141203637"
            ]
          },
          "metadata": {
            "tags": []
          },
          "execution_count": 30
        }
      ]
    },
    {
      "cell_type": "markdown",
      "metadata": {
        "id": "tSfPUE4Nka9j"
      },
      "source": [
        "г). от 166 см до 182 см => интервал $[-\\sigma, \\sigma]$\n",
        "\n",
        "$$P = 68\\%$$"
      ]
    },
    {
      "cell_type": "code",
      "metadata": {
        "colab": {
          "base_uri": "https://localhost:8080/"
        },
        "id": "70SNGJfrkfoU",
        "outputId": "02774a64-8ec2-4f25-f6a4-b219ee3cdca4"
      },
      "source": [
        "hight.cdf(182) - hight.cdf(166)"
      ],
      "execution_count": 31,
      "outputs": [
        {
          "output_type": "execute_result",
          "data": {
            "text/plain": [
              "0.6826894921370859"
            ]
          },
          "metadata": {
            "tags": []
          },
          "execution_count": 31
        }
      ]
    },
    {
      "cell_type": "markdown",
      "metadata": {
        "id": "xwQ11c-fkjSM"
      },
      "source": [
        "д). от 158 см до 190 см => интервал $[-2\\sigma, 2\\sigma]$\n",
        "\n",
        "$$P = 95.4\\%$$"
      ]
    },
    {
      "cell_type": "code",
      "metadata": {
        "colab": {
          "base_uri": "https://localhost:8080/"
        },
        "id": "kmSS4VfTk4NM",
        "outputId": "31ef7505-c5e4-44f1-d254-026e0e194ff1"
      },
      "source": [
        "hight.cdf(190) - (hight.cdf(158))"
      ],
      "execution_count": 36,
      "outputs": [
        {
          "output_type": "execute_result",
          "data": {
            "text/plain": [
              "0.9544997361036416"
            ]
          },
          "metadata": {
            "tags": []
          },
          "execution_count": 36
        }
      ]
    },
    {
      "cell_type": "markdown",
      "metadata": {
        "id": "nyAgTex-kn68"
      },
      "source": [
        "е). не выше 150 см или не ниже 190 см => интервал $(-\\infty, -3\\sigma] и [2\\sigma, +\\infty]$\n",
        "\n",
        "$$P = \\frac{1}{2}(100 - 99.72) + \\frac{1}{2}(100 + 95.4) = (0.14 + 2.3)\\% = 2.44\\%$$"
      ]
    },
    {
      "cell_type": "code",
      "metadata": {
        "colab": {
          "base_uri": "https://localhost:8080/"
        },
        "id": "OZUDGj3JkxWR",
        "outputId": "c5e6772e-6ba3-458a-9edd-31a9192d9dec"
      },
      "source": [
        "hight.cdf(150) + (1 - hight.cdf(190))"
      ],
      "execution_count": 34,
      "outputs": [
        {
          "output_type": "execute_result",
          "data": {
            "text/plain": [
              "0.0241000299798093"
            ]
          },
          "metadata": {
            "tags": []
          },
          "execution_count": 34
        }
      ]
    },
    {
      "cell_type": "markdown",
      "metadata": {
        "id": "IUwhsXeWlOEV"
      },
      "source": [
        "ё). не выше 150 см или не ниже 198 см => интервал $(-\\infty, -3\\sigma] и[3\\sigma, +\\infty]$\n",
        "\n",
        "$$P = (100 - 99.72)\\% = 0.28\\%$$"
      ]
    },
    {
      "cell_type": "code",
      "metadata": {
        "colab": {
          "base_uri": "https://localhost:8080/"
        },
        "id": "jQElk2Bqlccd",
        "outputId": "b0163f8c-d805-4484-afb9-8a0c940daea2"
      },
      "source": [
        "hight.cdf(150) + (1 - hight.cdf(198))"
      ],
      "execution_count": 37,
      "outputs": [
        {
          "output_type": "execute_result",
          "data": {
            "text/plain": [
              "0.0026997960632601965"
            ]
          },
          "metadata": {
            "tags": []
          },
          "execution_count": 37
        }
      ]
    },
    {
      "cell_type": "markdown",
      "metadata": {
        "id": "gCxB4SxXlhV2"
      },
      "source": [
        "ж). ниже 166 см. => интервал $(-\\infty, -sigma]$\n",
        "\n",
        "$$P = \\frac{1}{2}(100 - 68)\\% = 16\\%$$"
      ]
    },
    {
      "cell_type": "code",
      "metadata": {
        "colab": {
          "base_uri": "https://localhost:8080/"
        },
        "id": "tJUFL1q4lrTG",
        "outputId": "2456c9c0-958c-4840-b479-0bb7e5b2baf9"
      },
      "source": [
        "hight.cdf(166)"
      ],
      "execution_count": 38,
      "outputs": [
        {
          "output_type": "execute_result",
          "data": {
            "text/plain": [
              "0.15865525393145707"
            ]
          },
          "metadata": {
            "tags": []
          },
          "execution_count": 38
        }
      ]
    },
    {
      "cell_type": "markdown",
      "metadata": {
        "id": "tRGMTdtol0Zd"
      },
      "source": [
        "## На сколько сигм (средних квадратичных отклонений) отклоняется рост человека, равный 190 см, от математического ожидания роста в популяции, в которой M(X) = 178 см и D(X) = 25 кв.см?"
      ]
    },
    {
      "cell_type": "markdown",
      "metadata": {
        "id": "Oy7_yHaEl7nm"
      },
      "source": [
        "(190 - 178) см = 12 см\n",
        "\n",
        "$D(X) = \\sigma^2 = 25$ см\n",
        "\n",
        "$\\sigma = 5$ см"
      ]
    },
    {
      "cell_type": "code",
      "metadata": {
        "colab": {
          "base_uri": "https://localhost:8080/"
        },
        "id": "jdsU8rAql-TX",
        "outputId": "a4abadff-54b7-430c-b202-f6968b2e9746"
      },
      "source": [
        "(190 - 178) / pow(25, 0.5)"
      ],
      "execution_count": 40,
      "outputs": [
        {
          "output_type": "execute_result",
          "data": {
            "text/plain": [
              "2.4"
            ]
          },
          "metadata": {
            "tags": []
          },
          "execution_count": 40
        }
      ]
    },
    {
      "cell_type": "markdown",
      "metadata": {
        "id": "O7SubkzhmKtA"
      },
      "source": [
        "Ответ: $\\frac{12}{5} = 2.4$ раза"
      ]
    }
  ]
}