{
  "nbformat": 4,
  "nbformat_minor": 0,
  "metadata": {
    "colab": {
      "name": "lesson3.ipynb",
      "provenance": []
    },
    "kernelspec": {
      "name": "python3",
      "display_name": "Python 3"
    },
    "language_info": {
      "name": "python"
    }
  },
  "cells": [
    {
      "cell_type": "markdown",
      "metadata": {
        "id": "0wMdId0_6Odx"
      },
      "source": [
        "# Урок 3"
      ]
    },
    {
      "cell_type": "markdown",
      "metadata": {
        "id": "7nXi8qhunoVk"
      },
      "source": [
        "## Даны значения зарплат из выборки выпускников:\n",
        "## 100, 80, 75, 77, 89, 33, 45, 25, 65, 17, 30, 24, 57, 55, 70, 75, 65, 84, 90, 150.\n",
        "#### Посчитать (желательно без использования статистических методов наподобие std, var, mean)\n",
        "#### среднее арифметическое, среднее квадратичное отклонение,\n",
        "#### смещенную и несмещенную оценки дисперсий для данной выборки.\n"
      ]
    },
    {
      "cell_type": "code",
      "metadata": {
        "id": "2ivlMkvIn7Lk"
      },
      "source": [
        "a = [100, 80, 75, 77, 89, 33, 45, 25, 65, 17, 30, 24, 57, 55, 70, 75, 65, 84, 90, 150]"
      ],
      "execution_count": 128,
      "outputs": []
    },
    {
      "cell_type": "code",
      "metadata": {
        "colab": {
          "base_uri": "https://localhost:8080/"
        },
        "id": "w_b1L2o8122H",
        "outputId": "24e4eb69-8375-4453-92c7-5d1f17ae1d87"
      },
      "source": [
        "mean = sum(a)/len(a)\n",
        "print(f'среднее арифметическое: {mean}')"
      ],
      "execution_count": 129,
      "outputs": [
        {
          "output_type": "stream",
          "text": [
            "среднее арифметическое: 65.3\n"
          ],
          "name": "stdout"
        }
      ]
    },
    {
      "cell_type": "code",
      "metadata": {
        "colab": {
          "base_uri": "https://localhost:8080/"
        },
        "id": "CF4hbOQa2RyI",
        "outputId": "143c042a-3629-4ae5-997e-f651665d6962"
      },
      "source": [
        "b = []\n",
        "for itm_a in a:\n",
        "  itm_b = itm_a - mean\n",
        "  b.append(itm_b * itm_b)\n",
        "height_std = pow(sum(b) / len(b), 0.5)\n",
        "print(f'среднее квадратичное отклонение: {height_std}')"
      ],
      "execution_count": 130,
      "outputs": [
        {
          "output_type": "stream",
          "text": [
            "среднее квадратичное отклонение: 30.823854398825596\n"
          ],
          "name": "stdout"
        }
      ]
    },
    {
      "cell_type": "code",
      "metadata": {
        "colab": {
          "base_uri": "https://localhost:8080/"
        },
        "id": "WAqiUz5_5BUp",
        "outputId": "46f50282-8e10-4a6b-b7ac-106931911818"
      },
      "source": [
        "height_variance = sum(b) / len(b)\n",
        "print(f'смещенная оценка дисперсии для данной выборки: {height_variance}')"
      ],
      "execution_count": 131,
      "outputs": [
        {
          "output_type": "stream",
          "text": [
            "смещенная оценка дисперсии для данной выборки: 950.11\n"
          ],
          "name": "stdout"
        }
      ]
    },
    {
      "cell_type": "code",
      "metadata": {
        "colab": {
          "base_uri": "https://localhost:8080/"
        },
        "id": "weynrc6U5UK4",
        "outputId": "984ef31c-6e54-4f90-f4b6-9d07296b4ce3"
      },
      "source": [
        "height_variance2 = sum(b) / (len(b) - 1)\n",
        "print(f'несмещенная оценка дисперсии для данной выборки: {height_variance2}')"
      ],
      "execution_count": 132,
      "outputs": [
        {
          "output_type": "stream",
          "text": [
            "несмещенная оценка дисперсии для данной выборки: 1000.1157894736842\n"
          ],
          "name": "stdout"
        }
      ]
    },
    {
      "cell_type": "markdown",
      "metadata": {
        "id": "w70hNQbC6czS"
      },
      "source": [
        "## В первом ящике находится 8 мячей, из которых 5 - белые. Во втором ящике - 12 мячей, из которых 5 белых. Из первого ящика вытаскивают случайным образом два мяча, из второго - 4. Какова вероятность того, что 3 мяча белые?"
      ]
    },
    {
      "cell_type": "code",
      "metadata": {
        "id": "k_x2yQPK6s56"
      },
      "source": [
        "from math import factorial"
      ],
      "execution_count": 133,
      "outputs": []
    },
    {
      "cell_type": "code",
      "metadata": {
        "id": "hXL6LJAR7iPD"
      },
      "source": [
        "def combination(n, k):\n",
        "    return factorial(n) / (factorial(n - k) * factorial(k))"
      ],
      "execution_count": 134,
      "outputs": []
    },
    {
      "cell_type": "markdown",
      "metadata": {
        "id": "qgMebujW91q8"
      },
      "source": [
        "из первого ящика вынимаем 0 белых мячей, а из второго 3 мяча белых + 1 черный"
      ]
    },
    {
      "cell_type": "code",
      "metadata": {
        "colab": {
          "base_uri": "https://localhost:8080/"
        },
        "id": "lWWik29Y6wyS",
        "outputId": "33b2961e-6738-4e14-aa09-82f44b66d952"
      },
      "source": [
        "p1 = (combination(5,0) * combination(3,2)) / combination(8,2) * (combination(5,3) * combination(7,1)) / combination(12,4)\n",
        "p1"
      ],
      "execution_count": 135,
      "outputs": [
        {
          "output_type": "execute_result",
          "data": {
            "text/plain": [
              "0.015151515151515152"
            ]
          },
          "metadata": {
            "tags": []
          },
          "execution_count": 135
        }
      ]
    },
    {
      "cell_type": "markdown",
      "metadata": {
        "id": "iyZgW6LP9-XM"
      },
      "source": [
        "из первого ящика вынимаем 1 белый + 1 черный и из второго 2 белых + 2 черных"
      ]
    },
    {
      "cell_type": "code",
      "metadata": {
        "colab": {
          "base_uri": "https://localhost:8080/"
        },
        "id": "wjWiKjkp9i8k",
        "outputId": "b34a2936-a6ea-41d7-9ce3-5d0762992c67"
      },
      "source": [
        "p2 = (combination(5, 1) * combination(3, 1)) / combination(8, 2) * (combination(5, 2) * combination(7, 2)) / combination(12, 4)\n",
        "p2"
      ],
      "execution_count": 136,
      "outputs": [
        {
          "output_type": "execute_result",
          "data": {
            "text/plain": [
              "0.22727272727272727"
            ]
          },
          "metadata": {
            "tags": []
          },
          "execution_count": 136
        }
      ]
    },
    {
      "cell_type": "markdown",
      "metadata": {
        "id": "HHZQXKlu-Eys"
      },
      "source": [
        "из первого ящика вынимаем 2 белых и из второго 1 белый + 3 черных"
      ]
    },
    {
      "cell_type": "code",
      "metadata": {
        "colab": {
          "base_uri": "https://localhost:8080/"
        },
        "id": "WyAdoKdx9pi0",
        "outputId": "aa3b9181-bb39-4c2d-e7b0-9aef223c2c16"
      },
      "source": [
        "p3 = (combination(5, 2) * combination(3, 0)) / combination(8, 2) * (combination(5, 1) * combination(7, 3)) / combination(12, 4)\n",
        "p3"
      ],
      "execution_count": 137,
      "outputs": [
        {
          "output_type": "execute_result",
          "data": {
            "text/plain": [
              "0.12626262626262627"
            ]
          },
          "metadata": {
            "tags": []
          },
          "execution_count": 137
        }
      ]
    },
    {
      "cell_type": "markdown",
      "metadata": {
        "id": "7Or1M97m-I80"
      },
      "source": [
        "Вероятность вытащить 3 белых мяча"
      ]
    },
    {
      "cell_type": "code",
      "metadata": {
        "colab": {
          "base_uri": "https://localhost:8080/"
        },
        "id": "U07CbpFP9v10",
        "outputId": "131b1675-7b17-4634-a827-82902f45ad56"
      },
      "source": [
        "p = p1 + p2 + p3\n",
        "p"
      ],
      "execution_count": 138,
      "outputs": [
        {
          "output_type": "execute_result",
          "data": {
            "text/plain": [
              "0.36868686868686873"
            ]
          },
          "metadata": {
            "tags": []
          },
          "execution_count": 138
        }
      ]
    },
    {
      "cell_type": "markdown",
      "metadata": {
        "id": "HDH3f0yJ-i9U"
      },
      "source": [
        "## На соревновании по биатлону один из трех спортсменов стреляет и попадает в мишень. Вероятность попадания для первого спортсмена равна 0.9, для второго — 0.8, для третьего — 0.6. Найти вероятность того, что выстрел произведен: a). первым спортсменом б). вторым спортсменом в). третьим спортсменом."
      ]
    },
    {
      "cell_type": "code",
      "metadata": {
        "id": "wI2BjPzR-piB"
      },
      "source": [
        "p1 = 0.9\n",
        "p2 = 0.8\n",
        "p3 = 0.6"
      ],
      "execution_count": 139,
      "outputs": []
    },
    {
      "cell_type": "markdown",
      "metadata": {
        "id": "tF0gKX76-sVs"
      },
      "source": [
        "используем формулу Байеса: P(B|A)=P(B)⋅P(A|B)/P(A)"
      ]
    },
    {
      "cell_type": "code",
      "metadata": {
        "colab": {
          "base_uri": "https://localhost:8080/"
        },
        "id": "fP-B2112-upz",
        "outputId": "c4218cde-f141-4f9e-80fe-a7c02df8e89c"
      },
      "source": [
        "pA1 = p1 / 3\n",
        "pA2 = p2 / 3\n",
        "pA3 = p3 / 3\n",
        "pA = pA1 + pA2 + pA3\n",
        "pA"
      ],
      "execution_count": 140,
      "outputs": [
        {
          "output_type": "execute_result",
          "data": {
            "text/plain": [
              "0.7666666666666666"
            ]
          },
          "metadata": {
            "tags": []
          },
          "execution_count": 140
        }
      ]
    },
    {
      "cell_type": "code",
      "metadata": {
        "colab": {
          "base_uri": "https://localhost:8080/"
        },
        "id": "wMRwTV6v-x3E",
        "outputId": "9761b23d-b88c-4855-c4f6-fa35bb1a4aa2"
      },
      "source": [
        "a = pA1/pA\n",
        "print(f'Выстрел первым спортсменом: {a}')"
      ],
      "execution_count": 141,
      "outputs": [
        {
          "output_type": "stream",
          "text": [
            "Выстрел первым спортсменом: 0.391304347826087\n"
          ],
          "name": "stdout"
        }
      ]
    },
    {
      "cell_type": "code",
      "metadata": {
        "colab": {
          "base_uri": "https://localhost:8080/"
        },
        "id": "HXWh-Sh5-0gk",
        "outputId": "0149e536-3428-4350-c2a4-368be5966459"
      },
      "source": [
        "b = pA2/pA\n",
        "print(f'Выстрел вторым спортсменом: {b}')"
      ],
      "execution_count": 142,
      "outputs": [
        {
          "output_type": "stream",
          "text": [
            "Выстрел вторым спортсменом: 0.3478260869565218\n"
          ],
          "name": "stdout"
        }
      ]
    },
    {
      "cell_type": "code",
      "metadata": {
        "colab": {
          "base_uri": "https://localhost:8080/"
        },
        "id": "I4ByXV3B-2lD",
        "outputId": "1f45def6-3781-4155-e317-63a62b4376ad"
      },
      "source": [
        "c = pA3/pA\n",
        "print(f'Выстрел третьим спортсменом: {c}')"
      ],
      "execution_count": 143,
      "outputs": [
        {
          "output_type": "stream",
          "text": [
            "Выстрел третьим спортсменом: 0.2608695652173913\n"
          ],
          "name": "stdout"
        }
      ]
    },
    {
      "cell_type": "code",
      "metadata": {
        "colab": {
          "base_uri": "https://localhost:8080/"
        },
        "id": "2qCIc8r-OkU7",
        "outputId": "a656ebeb-f637-4740-eb22-56e65fca0be4"
      },
      "source": [
        "print(f'Проверка: {a + b + c}')"
      ],
      "execution_count": 144,
      "outputs": [
        {
          "output_type": "stream",
          "text": [
            "Проверка: 1.0\n"
          ],
          "name": "stdout"
        }
      ]
    },
    {
      "cell_type": "markdown",
      "metadata": {
        "id": "4c6z3TuuBE6O"
      },
      "source": [
        "## В университет на факультеты A и B поступило равное количество студентов, а на факультет C студентов поступило столько же, сколько на A и B вместе. Вероятность того, что студент факультета A сдаст первую сессию, равна 0.8. Для студента факультета B эта вероятность равна 0.7, а для студента факультета C - 0.9. Студент сдал первую сессию. Какова вероятность, что он учится: a). на факультете A б). на факультете B в). на факультете C?"
      ]
    },
    {
      "cell_type": "code",
      "metadata": {
        "id": "_NJwHTKVBrf2"
      },
      "source": [
        "p1 = 0.8\n",
        "p2 = 0.7\n",
        "p3 = 0.9"
      ],
      "execution_count": 145,
      "outputs": []
    },
    {
      "cell_type": "markdown",
      "metadata": {
        "id": "VeAAfKz2Cqiu"
      },
      "source": [
        "n1 - количество студентов факультета A\n",
        "\n",
        "n2 - количество студентов факультета B\n",
        "\n",
        "n3 - количество студентов факультета C\n",
        "\n",
        "n = n1 + n2 + n3 - всего студентов\n",
        "\n",
        "n1 = n2\n",
        "\n",
        "n3 = n1 + n2\n",
        "\n",
        "pA = n1 / n\n",
        "\n",
        "pA = n1 / (n1 + n2 + n3)\n",
        "\n",
        "pA = n1 / (n1 + n1 + n1 + n2)\n",
        "\n",
        "pA = n1 / (n1 + n1 + n1 + n1)\n",
        "\n",
        "pA = n1 / 4 * n1\n",
        "\n",
        "pA = 1 / 4\n",
        "\n",
        "pB = pA\n",
        "\n",
        "pB = 1 / 4\n",
        "\n",
        "pC = 1 - pA - pB\n",
        "\n",
        "pC = 1 - 1 / 4 - 1 / 4\n",
        "\n",
        "pC = 1 / 2"
      ]
    },
    {
      "cell_type": "code",
      "metadata": {
        "id": "BHqwAHXLB6Fe"
      },
      "source": [
        "pA = 1 / 4  # вероятность того, что студент окажется с факультета А\n",
        "pB = 1 / 4  # вероятность того, что студент окажется с факультета В\n",
        "pC = 1 / 2  # вероятность того, что студент окажется с факультета С."
      ],
      "execution_count": 146,
      "outputs": []
    },
    {
      "cell_type": "code",
      "metadata": {
        "colab": {
          "base_uri": "https://localhost:8080/"
        },
        "id": "7heCOv5jLSEa",
        "outputId": "bfed3904-2f7f-4479-cd01-1727135f8ec3"
      },
      "source": [
        "p = pA * p1 + pB * p2 + pC * p3\n",
        "print(f'Вероятность того, что студент сдаст первую сессию: {p}')"
      ],
      "execution_count": 147,
      "outputs": [
        {
          "output_type": "stream",
          "text": [
            "Вероятность того, что студент сдаст первую сессию: 0.825\n"
          ],
          "name": "stdout"
        }
      ]
    },
    {
      "cell_type": "code",
      "metadata": {
        "colab": {
          "base_uri": "https://localhost:8080/"
        },
        "id": "k9RsMmCoL_Na",
        "outputId": "9873ef94-0ce5-4378-e512-f44d1b87ae29"
      },
      "source": [
        "A = pA * p1 / p\n",
        "print(f'Вероятность того, что студент сдаст первую сессию на факультете A: {A}')"
      ],
      "execution_count": 148,
      "outputs": [
        {
          "output_type": "stream",
          "text": [
            "Вероятность того, что студент сдаст первую сессию на факультете A: 0.24242424242424246\n"
          ],
          "name": "stdout"
        }
      ]
    },
    {
      "cell_type": "code",
      "metadata": {
        "colab": {
          "base_uri": "https://localhost:8080/"
        },
        "id": "JJFTPBljMUkw",
        "outputId": "895361ef-3ac7-488e-99af-4f3737abeee0"
      },
      "source": [
        "B = pB * p2 / p\n",
        "print(f'Вероятность того, что студент сдаст первую сессию на факультете B: {B}')"
      ],
      "execution_count": 149,
      "outputs": [
        {
          "output_type": "stream",
          "text": [
            "Вероятность того, что студент сдаст первую сессию на факультете B: 0.21212121212121213\n"
          ],
          "name": "stdout"
        }
      ]
    },
    {
      "cell_type": "code",
      "metadata": {
        "colab": {
          "base_uri": "https://localhost:8080/"
        },
        "id": "BBKHDz40McaY",
        "outputId": "eacc3e33-4488-45a7-a682-41fef20a824a"
      },
      "source": [
        "C = pC * p3 / p\n",
        "print(f'Вероятность того, что студент сдаст первую сессию на факультете C: {C}')"
      ],
      "execution_count": 150,
      "outputs": [
        {
          "output_type": "stream",
          "text": [
            "Вероятность того, что студент сдаст первую сессию на факультете C: 0.5454545454545455\n"
          ],
          "name": "stdout"
        }
      ]
    },
    {
      "cell_type": "code",
      "metadata": {
        "colab": {
          "base_uri": "https://localhost:8080/"
        },
        "id": "XnGWGCGxPM2h",
        "outputId": "897b0ac8-9518-4865-b163-1be9e3fec9a1"
      },
      "source": [
        "print(f'Проверка: {A + B + C}')"
      ],
      "execution_count": 151,
      "outputs": [
        {
          "output_type": "stream",
          "text": [
            "Проверка: 1.0\n"
          ],
          "name": "stdout"
        }
      ]
    },
    {
      "cell_type": "markdown",
      "metadata": {
        "id": "KUNVxwteMtRq"
      },
      "source": [
        "## Устройство состоит из трех деталей. Для первой детали вероятность выйти из строя в первый месяц равна 0.1, для второй - 0.2, для третьей - 0.25. Какова вероятность того, что в первый месяц выйдут из строя: а). все детали б). только две детали в). хотя бы одна деталь г). от одной до двух деталей?"
      ]
    },
    {
      "cell_type": "code",
      "metadata": {
        "id": "kTd8jReCMxpt"
      },
      "source": [
        "p1 = 0.1\n",
        "p2 = 0.2\n",
        "p3 = 0.25"
      ],
      "execution_count": 152,
      "outputs": []
    },
    {
      "cell_type": "code",
      "metadata": {
        "colab": {
          "base_uri": "https://localhost:8080/"
        },
        "id": "bkK8txiZNABn",
        "outputId": "fe10d734-a312-4577-ab3e-ec4dec6d295c"
      },
      "source": [
        "a = p1 * p2 * p3\n",
        "print(f'Вероятность выхода из строя всех деталей в первый месяц: {a}')"
      ],
      "execution_count": 153,
      "outputs": [
        {
          "output_type": "stream",
          "text": [
            "Вероятность выхода из строя всех деталей в первый месяц: 0.005000000000000001\n"
          ],
          "name": "stdout"
        }
      ]
    },
    {
      "cell_type": "code",
      "metadata": {
        "colab": {
          "base_uri": "https://localhost:8080/"
        },
        "id": "ZllgPG7sNMSv",
        "outputId": "981eaaba-9146-4e92-b4c2-65b1da4e63c4"
      },
      "source": [
        "b = (1 - p1) * p2 * p3 + (1 - p2) * p1 * p3 + (1 - p3)* p1 * p2\n",
        "print(f'Вероятность выхода из строя 2х деталей в первый месяц: {b}')"
      ],
      "execution_count": 154,
      "outputs": [
        {
          "output_type": "stream",
          "text": [
            "Вероятность выхода из строя 2х деталей в первый месяц: 0.08\n"
          ],
          "name": "stdout"
        }
      ]
    },
    {
      "cell_type": "code",
      "metadata": {
        "colab": {
          "base_uri": "https://localhost:8080/"
        },
        "id": "HsMW0btZNtWd",
        "outputId": "1d679557-77e6-454f-994f-8ccfffb7cd09"
      },
      "source": [
        "c = 1 - (1 - p1) * (1 - p2) * (1 - p3)\n",
        "print(f'Вероятность выхода из строя хотя бы одной детали в первый месяц: {c}')"
      ],
      "execution_count": 155,
      "outputs": [
        {
          "output_type": "stream",
          "text": [
            "Вероятность выхода из строя хотя бы одной детали в первый месяц: 0.45999999999999996\n"
          ],
          "name": "stdout"
        }
      ]
    },
    {
      "cell_type": "code",
      "metadata": {
        "colab": {
          "base_uri": "https://localhost:8080/"
        },
        "id": "fW163_sMN_uW",
        "outputId": "e119a676-3ef4-4d59-f2b8-ecb2d30f17c8"
      },
      "source": [
        "d = 1 - (1 - p1) * (1 - p2) * (1 - p3) - a\n",
        "print(f'Вероятность выхода из строя хотя от одной до 2х деталей в первый месяц: {d}')"
      ],
      "execution_count": 156,
      "outputs": [
        {
          "output_type": "stream",
          "text": [
            "Вероятность выхода из строя хотя от одной до 2х деталей в первый месяц: 0.45499999999999996\n"
          ],
          "name": "stdout"
        }
      ]
    }
  ]
}