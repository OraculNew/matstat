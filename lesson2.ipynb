{
  "nbformat": 4,
  "nbformat_minor": 0,
  "metadata": {
    "kernelspec": {
      "display_name": "Python 3",
      "language": "python",
      "name": "python3"
    },
    "language_info": {
      "codemirror_mode": {
        "name": "ipython",
        "version": 3
      },
      "file_extension": ".py",
      "mimetype": "text/x-python",
      "name": "python",
      "nbconvert_exporter": "python",
      "pygments_lexer": "ipython3",
      "version": "3.8.5"
    },
    "colab": {
      "name": "lesson2.ipynb",
      "provenance": []
    }
  },
  "cells": [
    {
      "cell_type": "markdown",
      "metadata": {
        "id": "kxHRYjbfPb4c"
      },
      "source": [
        "# Задание 1\n",
        "### Вероятность того, что стрелок попадет в мишень,\n",
        "### выстрелив один раз, равна 0.8. Стрелок выстрелил 100 раз.\n",
        "### Найдите вероятность того, что стрелок попадет в цель ровно 85 раз."
      ]
    },
    {
      "cell_type": "code",
      "metadata": {
        "id": "KNjcfHRfPb4e"
      },
      "source": [
        "from math import factorial"
      ],
      "execution_count": 1,
      "outputs": []
    },
    {
      "cell_type": "code",
      "metadata": {
        "id": "1vKK_kq0Pb4f"
      },
      "source": [
        "# n = 100 - число испытаний\n",
        "# p = 0.8 - вероятность появления события\n",
        "# x = 85 - количество событий\n",
        "# Применим формулу Бернулли для решения задачи\n",
        "\n",
        "def binomial_prob(n, p, x):\n",
        "    b = (factorial(n)/(factorial(x)*factorial(n-x)))*(p**x)*((1-p)**(n-x))\n",
        "    return b"
      ],
      "execution_count": 2,
      "outputs": []
    },
    {
      "cell_type": "code",
      "metadata": {
        "colab": {
          "base_uri": "https://localhost:8080/"
        },
        "id": "Dl5a33tKPb4f",
        "outputId": "463bb24b-7ce8-48eb-c826-6314370076fc"
      },
      "source": [
        "print('Вероятность того, что стрелок попадет в цель ровно 85 раз равна:', round(binomial_prob(100, 0.8, 85), 4))"
      ],
      "execution_count": 3,
      "outputs": [
        {
          "output_type": "stream",
          "text": [
            "Вероятность того, что стрелок попадет в цель ровно 85 раз равна: 0.0481\n"
          ],
          "name": "stdout"
        }
      ]
    },
    {
      "cell_type": "code",
      "metadata": {
        "colab": {
          "base_uri": "https://localhost:8080/"
        },
        "id": "YhH94xwHPb4g",
        "outputId": "20c59b72-a171-4934-cc8f-26a830e19c1a"
      },
      "source": [
        "### ИЛИ используем готовую функцию\n",
        "\n",
        "from scipy import stats\n",
        "probability = stats.binom.pmf(85, 100, 0.8)\n",
        "print('Вероятность того, что стрелок попадет в цель ровно 85 раз равна:', round(probability, 4))"
      ],
      "execution_count": 4,
      "outputs": [
        {
          "output_type": "stream",
          "text": [
            "Вероятность того, что стрелок попадет в цель ровно 85 раз равна: 0.0481\n"
          ],
          "name": "stdout"
        }
      ]
    },
    {
      "cell_type": "markdown",
      "metadata": {
        "id": "p-2IqGqtPb4g"
      },
      "source": [
        "# Задание 2\n",
        "### Вероятность того, что лампочка перегорит в течение первого дня эксплуатации,\n",
        "### равна 0.0004. В жилом комплексе после ремонта в один день включили 5000 новых лампочек.\n",
        "### Какова вероятность, что ни одна из них не перегорит в первый день?"
      ]
    },
    {
      "cell_type": "code",
      "metadata": {
        "id": "CpVGI3UDPb4h"
      },
      "source": [
        "from scipy import stats"
      ],
      "execution_count": 5,
      "outputs": []
    },
    {
      "cell_type": "code",
      "metadata": {
        "colab": {
          "base_uri": "https://localhost:8080/"
        },
        "id": "wvVsXtI1Pb4h",
        "outputId": "d79eac2d-2365-4517-da35-faedc40a1bce"
      },
      "source": [
        "probability = stats.binom.pmf(0, 5000, 0.0004)\n",
        "print('Вероятность, что ни одна из них не перегорит в первый день равна:',round(probability, 4))"
      ],
      "execution_count": 6,
      "outputs": [
        {
          "output_type": "stream",
          "text": [
            "Вероятность, что ни одна из них не перегорит в первый день равна: 0.1353\n"
          ],
          "name": "stdout"
        }
      ]
    },
    {
      "cell_type": "code",
      "metadata": {
        "id": "_1l43YMlPb4h"
      },
      "source": [
        "# Применим формулу Бернулли для решения задачи\n",
        "# n = 5000 - число испытаний\n",
        "# p = 0.0004 - вероятность появления события\n",
        "# x = 0 - количество событий\n",
        "def binomial_prob(n, p, x):\n",
        "    b = (factorial(n)/(factorial(x)*factorial(n-x)))*(p**x)*((1-p)**(n-x))\n",
        "    return b"
      ],
      "execution_count": 7,
      "outputs": []
    },
    {
      "cell_type": "code",
      "metadata": {
        "colab": {
          "base_uri": "https://localhost:8080/"
        },
        "id": "8oxrnCM9Pb4i",
        "outputId": "da63dc6f-1161-4d16-fc7a-ac4d1487c434"
      },
      "source": [
        "print('Вероятность, что ни одна из них не перегорит в первый день равна:',round(binomial_prob(5000, 0.0004, 0), 4))"
      ],
      "execution_count": 8,
      "outputs": [
        {
          "output_type": "stream",
          "text": [
            "Вероятность, что ни одна из них не перегорит в первый день равна: 0.1353\n"
          ],
          "name": "stdout"
        }
      ]
    },
    {
      "cell_type": "markdown",
      "metadata": {
        "id": "CFPyT7BpPb4i"
      },
      "source": [
        "### Какова вероятность, что перегорят ровно две?"
      ]
    },
    {
      "cell_type": "code",
      "metadata": {
        "colab": {
          "base_uri": "https://localhost:8080/"
        },
        "id": "fz0A-I7CPb4i",
        "outputId": "7132470a-9b04-42f1-8c0a-3cf41d3c03fe"
      },
      "source": [
        "def binomial_prob(n, p, x):\n",
        "    b = (factorial(n)/(factorial(x)*factorial(n-x)))*(p**x)*((1-p)**(n-x))\n",
        "    return b\n",
        "print('Вероятность, что перегорят ровно две равна:', round(binomial_prob(5000, 0.0004, 2), 4))"
      ],
      "execution_count": 9,
      "outputs": [
        {
          "output_type": "stream",
          "text": [
            "Вероятность, что перегорят ровно две равна: 0.2707\n"
          ],
          "name": "stdout"
        }
      ]
    },
    {
      "cell_type": "markdown",
      "metadata": {
        "id": "gLyIkeVwPb4i"
      },
      "source": [
        "# Задание 3\n",
        "### Монету подбросили 144 раза. Какова вероятность, что орел выпадет ровно 70 раз?"
      ]
    },
    {
      "cell_type": "code",
      "metadata": {
        "id": "QxL4OgDDPb4j"
      },
      "source": [
        "# # n = 144 - число испытаний\n",
        "# p = 0.5 - вероятность появления события \n",
        "# x = 70 - количество событий\n",
        "# Применим формулу Бернулли для решения задачи\n",
        "\n",
        "def binomial_prob(n, p, x):\n",
        "    b = (factorial(n)/(factorial(x)*factorial(n-x)))*(p**x)*((1-p)**(n-x))\n",
        "    return b"
      ],
      "execution_count": 10,
      "outputs": []
    },
    {
      "cell_type": "code",
      "metadata": {
        "colab": {
          "base_uri": "https://localhost:8080/"
        },
        "id": "jdpcKbYkPb4j",
        "outputId": "ee375b15-ac92-475d-d883-c281683b469c"
      },
      "source": [
        "print('Вероятность того, что орел выпадет ровно 70 раз равна:', round(binomial_prob(144, 0.5, 70), 4))"
      ],
      "execution_count": 11,
      "outputs": [
        {
          "output_type": "stream",
          "text": [
            "Вероятность того, что орел выпадет ровно 70 раз равна: 0.0628\n"
          ],
          "name": "stdout"
        }
      ]
    },
    {
      "cell_type": "markdown",
      "metadata": {
        "id": "a4OC2p6jPb4j"
      },
      "source": [
        "# Задание 4\n",
        "### В первом ящике находится 10 мячей, из которых 7 - белые. Во втором ящике - 11 мячей, из которых 9 белых. Из каждого ящика вытаскивают случайным образом по два мяча. \n",
        "\n",
        "### Какова вероятность того, что все мячи белые? "
      ]
    },
    {
      "cell_type": "code",
      "metadata": {
        "colab": {
          "base_uri": "https://localhost:8080/"
        },
        "id": "JAdjbURFPb4j",
        "outputId": "8d25b56d-2b6c-49c4-a12e-6e6c4c4f376f"
      },
      "source": [
        "# находим количество положительных исходов в первом ящике\n",
        "n = 7\n",
        "k = 2\n",
        "a = int(factorial(n) / (factorial(k) * factorial(n - k)))\n",
        "print('Количество положительных исходов:', a)"
      ],
      "execution_count": 12,
      "outputs": [
        {
          "output_type": "stream",
          "text": [
            "Количество положительных исходов: 21\n"
          ],
          "name": "stdout"
        }
      ]
    },
    {
      "cell_type": "code",
      "metadata": {
        "colab": {
          "base_uri": "https://localhost:8080/"
        },
        "id": "vkHG-9vCPb4k",
        "outputId": "b0e85b11-6d75-4f75-da70-4a93df90c382"
      },
      "source": [
        "# находим общее количество исходов в первом ящике\n",
        "n = 10\n",
        "k = 2\n",
        "Aa = int(factorial(n) / (factorial(k) * factorial(n - k)))\n",
        "print('Количество положительных исходов:', Aa)"
      ],
      "execution_count": 13,
      "outputs": [
        {
          "output_type": "stream",
          "text": [
            "Количество положительных исходов: 45\n"
          ],
          "name": "stdout"
        }
      ]
    },
    {
      "cell_type": "code",
      "metadata": {
        "colab": {
          "base_uri": "https://localhost:8080/"
        },
        "id": "UIg8wTmjPb4k",
        "outputId": "8aafe3f9-4e3a-41d3-a87e-f5ca51407787"
      },
      "source": [
        "# находим количество положительных исходов во втором ящике\n",
        "n = 9\n",
        "k = 2\n",
        "b = int(factorial(n) / (factorial(k) * factorial(n - k)))\n",
        "print('Количество положительных исходов:', b)"
      ],
      "execution_count": 14,
      "outputs": [
        {
          "output_type": "stream",
          "text": [
            "Количество положительных исходов: 36\n"
          ],
          "name": "stdout"
        }
      ]
    },
    {
      "cell_type": "code",
      "metadata": {
        "colab": {
          "base_uri": "https://localhost:8080/"
        },
        "id": "8IvSvvGXPb4k",
        "outputId": "d8611a46-9585-4200-8eaa-d6fa3fd67de6"
      },
      "source": [
        "# находим общее количество исходов во втором ящике\n",
        "n = 11\n",
        "k = 2\n",
        "Bb = int(factorial(n) / (factorial(k) * factorial(n - k)))\n",
        "print('Количество положительных исходов:', Bb)"
      ],
      "execution_count": 15,
      "outputs": [
        {
          "output_type": "stream",
          "text": [
            "Количество положительных исходов: 55\n"
          ],
          "name": "stdout"
        }
      ]
    },
    {
      "cell_type": "code",
      "metadata": {
        "colab": {
          "base_uri": "https://localhost:8080/"
        },
        "id": "CdMXIQHdPb4k",
        "outputId": "35f0c981-cbe3-4420-8bd4-83457b5180b1"
      },
      "source": [
        "# находим вероятность того, что все мячи белые\n",
        "\n",
        "Pa = (a/Aa) * (b/Bb)\n",
        "print('Вероятность того, что все мячи белые равна:', round(Pa, 4))"
      ],
      "execution_count": 16,
      "outputs": [
        {
          "output_type": "stream",
          "text": [
            "Вероятность того, что все мячи белые равна: 0.3055\n"
          ],
          "name": "stdout"
        }
      ]
    }
  ]
}